{
  "nbformat": 4,
  "nbformat_minor": 0,
  "metadata": {
    "colab": {
      "name": "JaclynM_CBA.ipynb",
      "provenance": [],
      "collapsed_sections": [],
      "mount_file_id": "1RFRS8fMHHttPv-CyVm3L-nb7X5632Gvs",
      "authorship_tag": "ABX9TyOpyUVCtTTkTzDJ7zWYsrEd",
      "include_colab_link": true
    },
    "kernelspec": {
      "name": "python3",
      "display_name": "Python 3"
    },
    "language_info": {
      "name": "python"
    }
  },
  "cells": [
    {
      "cell_type": "markdown",
      "metadata": {
        "id": "view-in-github",
        "colab_type": "text"
      },
      "source": [
        "<a href=\"https://colab.research.google.com/github/Jacyung/CBA-python/blob/main/JaclynM_CBA.ipynb\" target=\"_parent\"><img src=\"https://colab.research.google.com/assets/colab-badge.svg\" alt=\"Open In Colab\"/></a>"
      ]
    },
    {
      "cell_type": "code",
      "execution_count": null,
      "metadata": {
        "id": "rfNhp0Idq2h7",
        "colab": {
          "base_uri": "https://localhost:8080/"
        },
        "outputId": "8593dd9e-2eae-4b95-af47-3097a2da8230"
      },
      "outputs": [
        {
          "output_type": "stream",
          "name": "stdout",
          "text": [
            "   years  developmentCost  operationalCost  valueOfBenefits\n",
            "0      0             -100                0                0\n",
            "1      1              -30              -10               25\n",
            "2      2                0              -15               55\n",
            "3      3                0              -15               85\n"
          ]
        }
      ],
      "source": [
        "import pandas as pd\n",
        "import math\n",
        "\n",
        "#reading data into a pandas dataframe\n",
        "\n",
        "dataT=pd.read_csv('/content/drive/MyDrive/Colab Notebooks/262-CBA.csv')\n",
        "print(dataT)"
      ]
    },
    {
      "cell_type": "code",
      "source": [
        "discountRate=0.05\n",
        "discountFactor=[0,0,0,0]\n",
        "for year in dataT['years']:\n",
        "   discountFactor[year]=1/math.pow((1+discountRate),year)\n",
        "\n",
        "   dataT['discountFactor']=[round(num, 2) for num in discountFactor] \n",
        "   print (dataT)"
      ],
      "metadata": {
        "colab": {
          "base_uri": "https://localhost:8080/"
        },
        "id": "pFWFPwtvzqLs",
        "outputId": "670c0355-1303-4729-8109-dfe1ad78f5b9"
      },
      "execution_count": null,
      "outputs": [
        {
          "output_type": "stream",
          "name": "stdout",
          "text": [
            "   years  developmentCost  operationalCost  valueOfBenefits  discountFactor\n",
            "0      0             -100                0                0             1.0\n",
            "1      1              -30              -10               25             0.0\n",
            "2      2                0              -15               55             0.0\n",
            "3      3                0              -15               85             0.0\n",
            "   years  developmentCost  operationalCost  valueOfBenefits  discountFactor\n",
            "0      0             -100                0                0            1.00\n",
            "1      1              -30              -10               25            0.95\n",
            "2      2                0              -15               55            0.00\n",
            "3      3                0              -15               85            0.00\n",
            "   years  developmentCost  operationalCost  valueOfBenefits  discountFactor\n",
            "0      0             -100                0                0            1.00\n",
            "1      1              -30              -10               25            0.95\n",
            "2      2                0              -15               55            0.91\n",
            "3      3                0              -15               85            0.00\n",
            "   years  developmentCost  operationalCost  valueOfBenefits  discountFactor\n",
            "0      0             -100                0                0            1.00\n",
            "1      1              -30              -10               25            0.95\n",
            "2      2                0              -15               55            0.91\n",
            "3      3                0              -15               85            0.86\n"
          ]
        }
      ]
    },
    {
      "cell_type": "code",
      "source": [
        "#calculate Net benefit/cost for each year\n",
        "NetBC=[0,0,0,0]\n",
        "for year in dataT['years']:\n",
        "   NetBC[year]= dataT['developmentCost'][year]+dataT['operationalCost'][year]+dataT['valueOfBenefits'][year]\n",
        "\n",
        "   dataT['NetBC']=NetBC\n",
        "   print (dataT)"
      ],
      "metadata": {
        "colab": {
          "base_uri": "https://localhost:8080/"
        },
        "id": "p3e2wEMfy61G",
        "outputId": "639d71d3-a6d5-4b66-c27f-d9f15f85ca4b"
      },
      "execution_count": null,
      "outputs": [
        {
          "output_type": "stream",
          "name": "stdout",
          "text": [
            "   years  developmentCost  ...  discountFactor  NetBC\n",
            "0      0             -100  ...            1.00   -100\n",
            "1      1              -30  ...            0.95      0\n",
            "2      2                0  ...            0.91      0\n",
            "3      3                0  ...            0.86      0\n",
            "\n",
            "[4 rows x 6 columns]\n",
            "   years  developmentCost  ...  discountFactor  NetBC\n",
            "0      0             -100  ...            1.00   -100\n",
            "1      1              -30  ...            0.95    -15\n",
            "2      2                0  ...            0.91      0\n",
            "3      3                0  ...            0.86      0\n",
            "\n",
            "[4 rows x 6 columns]\n",
            "   years  developmentCost  ...  discountFactor  NetBC\n",
            "0      0             -100  ...            1.00   -100\n",
            "1      1              -30  ...            0.95    -15\n",
            "2      2                0  ...            0.91     40\n",
            "3      3                0  ...            0.86      0\n",
            "\n",
            "[4 rows x 6 columns]\n",
            "   years  developmentCost  ...  discountFactor  NetBC\n",
            "0      0             -100  ...            1.00   -100\n",
            "1      1              -30  ...            0.95    -15\n",
            "2      2                0  ...            0.91     40\n",
            "3      3                0  ...            0.86     70\n",
            "\n",
            "[4 rows x 6 columns]\n"
          ]
        }
      ]
    },
    {
      "cell_type": "code",
      "source": [
        "#caclulate net present value\n",
        "\n",
        "NPV=[0,0,0,0]\n",
        "\n",
        "for year in dataT['years']:\n",
        "  NPV[year]=dataT['NetBC'][year]*dataT['discountFactor'][year]\n",
        "\n",
        "  dataT['NPV']=[round(num,2) for num in NPV]\n",
        "  print (dataT)"
      ],
      "metadata": {
        "colab": {
          "base_uri": "https://localhost:8080/"
        },
        "id": "XvW43FFF4FYH",
        "outputId": "33b977f8-525c-4293-85fc-750157a8d4cb"
      },
      "execution_count": null,
      "outputs": [
        {
          "output_type": "stream",
          "name": "stdout",
          "text": [
            "   years  developmentCost  operationalCost  ...  discountFactor  NetBC    NPV\n",
            "0      0             -100                0  ...            1.00   -100 -100.0\n",
            "1      1              -30              -10  ...            0.95    -15    0.0\n",
            "2      2                0              -15  ...            0.91     40    0.0\n",
            "3      3                0              -15  ...            0.86     70    0.0\n",
            "\n",
            "[4 rows x 7 columns]\n",
            "   years  developmentCost  operationalCost  ...  discountFactor  NetBC     NPV\n",
            "0      0             -100                0  ...            1.00   -100 -100.00\n",
            "1      1              -30              -10  ...            0.95    -15  -14.25\n",
            "2      2                0              -15  ...            0.91     40    0.00\n",
            "3      3                0              -15  ...            0.86     70    0.00\n",
            "\n",
            "[4 rows x 7 columns]\n",
            "   years  developmentCost  operationalCost  ...  discountFactor  NetBC     NPV\n",
            "0      0             -100                0  ...            1.00   -100 -100.00\n",
            "1      1              -30              -10  ...            0.95    -15  -14.25\n",
            "2      2                0              -15  ...            0.91     40   36.40\n",
            "3      3                0              -15  ...            0.86     70    0.00\n",
            "\n",
            "[4 rows x 7 columns]\n",
            "   years  developmentCost  operationalCost  ...  discountFactor  NetBC     NPV\n",
            "0      0             -100                0  ...            1.00   -100 -100.00\n",
            "1      1              -30              -10  ...            0.95    -15  -14.25\n",
            "2      2                0              -15  ...            0.91     40   36.40\n",
            "3      3                0              -15  ...            0.86     70   60.20\n",
            "\n",
            "[4 rows x 7 columns]\n"
          ]
        }
      ]
    }
  ]
}