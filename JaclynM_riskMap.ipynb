{
  "nbformat": 4,
  "nbformat_minor": 0,
  "metadata": {
    "colab": {
      "name": "JaclynM_riskMap.ipynb",
      "provenance": [],
      "collapsed_sections": [],
      "authorship_tag": "ABX9TyOkg53Ggbifo1/1iju9+ho+",
      "include_colab_link": true
    },
    "kernelspec": {
      "name": "python3",
      "display_name": "Python 3"
    },
    "language_info": {
      "name": "python"
    }
  },
  "cells": [
    {
      "cell_type": "markdown",
      "metadata": {
        "id": "view-in-github",
        "colab_type": "text"
      },
      "source": [
        "<a href=\"https://colab.research.google.com/github/Jacyung/JaclynM_262/blob/main/JaclynM_riskMap.ipynb\" target=\"_parent\"><img src=\"https://colab.research.google.com/assets/colab-badge.svg\" alt=\"Open In Colab\"/></a>"
      ]
    },
    {
      "cell_type": "code",
      "execution_count": 32,
      "metadata": {
        "colab": {
          "base_uri": "https://localhost:8080/",
          "height": 491
        },
        "id": "gVMeam7uVo_-",
        "outputId": "617c72d9-fa6c-4a8e-ef37-7b0202ab3ce6"
      },
      "outputs": [
        {
          "output_type": "stream",
          "name": "stdout",
          "text": [
            "likelihood  0.1  0.2  0.3  0.5\n",
            "impact                        \n",
            "1           NaN  0.2  NaN  NaN\n",
            "2           NaN  NaN  0.6  NaN\n",
            "7           0.7  NaN  NaN  NaN\n",
            "10          NaN  NaN  NaN  5.0\n",
            "likelihood  0.1  0.2  0.3  0.5\n",
            "impact                        \n",
            "1           NaN  NaN  NaN  NaN\n",
            "2           NaN  NaN  NaN  NaN\n",
            "7           NaN  NaN  NaN  NaN\n",
            "10          NaN  NaN  NaN  NaN\n"
          ]
        },
        {
          "output_type": "display_data",
          "data": {
            "image/png": "[encoded data removed]",
            "text/plain": [
              "<Figure size 432x288 with 2 Axes>"
            ]
          },
          "metadata": {
            "needs_background": "light"
          }
        }
      ],
      "source": [
        "import seaborn as sns \n",
        "import pandas as pd\n",
        "import numpy as np\n",
        "\n",
        "#create a dataframe(data table)\n",
        "df = pd.DataFrame(columns=['risk', 'likelihood', 'impact', 'score'])\n",
        "\n",
        "df['risk',]=['users', 'team', 'budget', 'security']\n",
        "\n",
        "df['likelihood']=[0.2,0.3,0.1,0.5]\n",
        "\n",
        "df['score']=df['impact']*df['likelihood']\n",
        "df['impact']=[1,2,7,10]\n",
        "df['score']=df['impact']*df['likelihood']\n",
        "\n",
        "scoresPivot=df.pivot('impact', 'likelihood', 'score')\n",
        "print(scoresPivot)\n",
        "\n",
        "labelsPivot=df.pivot('impact', 'likelihood', 'risk')\n",
        "print(labelsPivot)\n",
        "\n",
        "#replaces no labels with empty strings\n",
        "labelsPivot.fillna('', inplace=True)\n",
        "\n",
        " #simple heatmap\n",
        "p1=sns.heatmap(scoresPivot, cmap=\"YlGn\", annot=labelsPivot, fmt= '')"
      ]
    }
  ]
}